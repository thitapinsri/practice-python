{
 "cells": [
  {
   "cell_type": "markdown",
   "metadata": {},
   "source": [
    "# ammo calculator\n",
    "as a zombie shooting game player, i created this code to manage the resource wisely by using it to adjust ammo size per load and numbers of gun shot to kill the list of zombies"
   ]
  },
  {
   "cell_type": "markdown",
   "metadata": {},
   "source": [
    "instruction:\n",
    "1. input your ammo size per load (1 ammo = 1 damage)\n",
    "2. input the list of zombie's hp (1 damage = -1 hp -- reload after the zombie completely dead)\n",
    "\n",
    "it will return:\n",
    "- total loads that kill all zombies\n",
    "- the list of order of loads that kill each zombie                               "
   ]
  },
  {
   "cell_type": "code",
   "execution_count": null,
   "metadata": {},
   "outputs": [],
   "source": [
    "ammoInput = int(input())\n",
    "zombiesInput = input()\n",
    "zombies = [int(x) for x in zombiesInput.split()]\n",
    "\n",
    "deathShot = []\n",
    "shotCount = 0\n",
    "\n",
    "for i in zombies:\n",
    "    while i > 0:\n",
    "        shotCount += 1\n",
    "        i -= ammoInput\n",
    "    deathShot.append(shotCount)\n",
    "\n",
    "\n",
    "print(shotCount)\n",
    "for x in deathShot:\n",
    "    print(x, end=' ')"
   ]
  }
 ],
 "metadata": {
  "language_info": {
   "name": "python"
  },
  "orig_nbformat": 4
 },
 "nbformat": 4,
 "nbformat_minor": 2
}
